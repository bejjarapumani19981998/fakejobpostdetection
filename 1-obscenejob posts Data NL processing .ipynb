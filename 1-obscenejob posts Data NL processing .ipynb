{
 "cells": [
  {
   "cell_type": "code",
   "execution_count": null,
   "metadata": {
    "id": "LIgCKxV7SEl-"
   },
   "outputs": [],
   "source": [
    "obsen_jb_xl='dataset-1.xlsx'"
   ]
  },
  {
   "cell_type": "code",
   "execution_count": null,
   "metadata": {
    "colab": {
     "base_uri": "https://localhost:8080/",
     "height": 423
    },
    "executionInfo": {
     "elapsed": 1996,
     "status": "ok",
     "timestamp": 1680087393321,
     "user": {
      "displayName": "Jada Projects",
      "userId": "13935386077665551865"
     },
     "user_tz": -330
    },
    "id": "w5xbjyygSGlF",
    "outputId": "8ab7af77-1c4a-4ba7-8cdc-c024ad60f76c"
   },
   "outputs": [
    {
     "data": {
      "text/html": [
       "\n",
       "  <div id=\"df-fe34bbc2-4f7f-4fe7-8152-a5eb624646f0\">\n",
       "    <div class=\"colab-df-container\">\n",
       "      <div>\n",
       "<style scoped>\n",
       "    .dataframe tbody tr th:only-of-type {\n",
       "        vertical-align: middle;\n",
       "    }\n",
       "\n",
       "    .dataframe tbody tr th {\n",
       "        vertical-align: top;\n",
       "    }\n",
       "\n",
       "    .dataframe thead th {\n",
       "        text-align: right;\n",
       "    }\n",
       "</style>\n",
       "<table border=\"1\" class=\"dataframe\">\n",
       "  <thead>\n",
       "    <tr style=\"text-align: right;\">\n",
       "      <th></th>\n",
       "      <th>Title</th>\n",
       "      <th>URL</th>\n",
       "      <th>Advertisements</th>\n",
       "      <th>Category</th>\n",
       "    </tr>\n",
       "  </thead>\n",
       "  <tbody>\n",
       "    <tr>\n",
       "      <th>0</th>\n",
       "      <td>PhotogReno</td>\n",
       "      <td>https://www.sexyjobs.com/jobs/nude-modeling/E6...</td>\n",
       "      <td>I'm seeking models for publication in a *major...</td>\n",
       "      <td>Illegitimate</td>\n",
       "    </tr>\n",
       "    <tr>\n",
       "      <th>1</th>\n",
       "      <td>Barely Natural</td>\n",
       "      <td>https://www.sexyjobs.com/jobs/nude-modeling/E8...</td>\n",
       "      <td>We seek reliable models of all experiences for...</td>\n",
       "      <td>Illegitimate</td>\n",
       "    </tr>\n",
       "    <tr>\n",
       "      <th>2</th>\n",
       "      <td>Number One Adult Modeling USA</td>\n",
       "      <td>https://www.sexyjobs.com/jobs/nude-modeling/E6...</td>\n",
       "      <td>Looking for new and existing talent to appear ...</td>\n",
       "      <td>Illegitimate</td>\n",
       "    </tr>\n",
       "    <tr>\n",
       "      <th>3</th>\n",
       "      <td>deluxe imagery</td>\n",
       "      <td>https://www.sexyjobs.com/jobs/nude-modeling/E1...</td>\n",
       "      <td>looking for female models for adult themed sho...</td>\n",
       "      <td>Illegitimate</td>\n",
       "    </tr>\n",
       "    <tr>\n",
       "      <th>4</th>\n",
       "      <td>Ignite Photos</td>\n",
       "      <td>https://www.sexyjobs.com/jobs/nude-modeling/E1...</td>\n",
       "      <td>Established photo and video, professional, loo...</td>\n",
       "      <td>Illegitimate</td>\n",
       "    </tr>\n",
       "    <tr>\n",
       "      <th>...</th>\n",
       "      <td>...</td>\n",
       "      <td>...</td>\n",
       "      <td>...</td>\n",
       "      <td>...</td>\n",
       "    </tr>\n",
       "    <tr>\n",
       "      <th>205</th>\n",
       "      <td>HR Administrator</td>\n",
       "      <td>https://www.indeed.com/viewjob?jk=1b14d3c3aef6...</td>\n",
       "      <td>Essity is a global company that is paving the ...</td>\n",
       "      <td>Legitimate</td>\n",
       "    </tr>\n",
       "    <tr>\n",
       "      <th>206</th>\n",
       "      <td>Sales Development Representative</td>\n",
       "      <td>https://www.linkedin.com/jobs/view/3494408821/...</td>\n",
       "      <td>The role is dedicated to lead management and n...</td>\n",
       "      <td>Legitimate</td>\n",
       "    </tr>\n",
       "    <tr>\n",
       "      <th>207</th>\n",
       "      <td>Accountant Reporting</td>\n",
       "      <td>https://www.indeed.com/viewjob?jk=562882f39f93...</td>\n",
       "      <td>The primary function of the Accountant Reporti...</td>\n",
       "      <td>Legitimate</td>\n",
       "    </tr>\n",
       "    <tr>\n",
       "      <th>208</th>\n",
       "      <td>Pricing Financial Analyst</td>\n",
       "      <td>https://www.indeed.com/viewjob?jk=d63c9d2e8fcd...</td>\n",
       "      <td>Essity is a leading global hygiene and health ...</td>\n",
       "      <td>Legitimate</td>\n",
       "    </tr>\n",
       "    <tr>\n",
       "      <th>209</th>\n",
       "      <td>Finance Executive</td>\n",
       "      <td>https://www.linkedin.com/jobs/view/3383085519/...</td>\n",
       "      <td>FE fundinfo is a global leader in investment f...</td>\n",
       "      <td>Legitimate</td>\n",
       "    </tr>\n",
       "  </tbody>\n",
       "</table>\n",
       "<p>210 rows × 4 columns</p>\n",
       "</div>\n",
       "      <button class=\"colab-df-convert\" onclick=\"convertToInteractive('df-fe34bbc2-4f7f-4fe7-8152-a5eb624646f0')\"\n",
       "              title=\"Convert this dataframe to an interactive table.\"\n",
       "              style=\"display:none;\">\n",
       "        \n",
       "  <svg xmlns=\"http://www.w3.org/2000/svg\" height=\"24px\"viewBox=\"0 0 24 24\"\n",
       "       width=\"24px\">\n",
       "    <path d=\"M0 0h24v24H0V0z\" fill=\"none\"/>\n",
       "    <path d=\"M18.56 5.44l.94 2.06.94-2.06 2.06-.94-2.06-.94-.94-2.06-.94 2.06-2.06.94zm-11 1L8.5 8.5l.94-2.06 2.06-.94-2.06-.94L8.5 2.5l-.94 2.06-2.06.94zm10 10l.94 2.06.94-2.06 2.06-.94-2.06-.94-.94-2.06-.94 2.06-2.06.94z\"/><path d=\"M17.41 7.96l-1.37-1.37c-.4-.4-.92-.59-1.43-.59-.52 0-1.04.2-1.43.59L10.3 9.45l-7.72 7.72c-.78.78-.78 2.05 0 2.83L4 21.41c.39.39.9.59 1.41.59.51 0 1.02-.2 1.41-.59l7.78-7.78 2.81-2.81c.8-.78.8-2.07 0-2.86zM5.41 20L4 18.59l7.72-7.72 1.47 1.35L5.41 20z\"/>\n",
       "  </svg>\n",
       "      </button>\n",
       "      \n",
       "  <style>\n",
       "    .colab-df-container {\n",
       "      display:flex;\n",
       "      flex-wrap:wrap;\n",
       "      gap: 12px;\n",
       "    }\n",
       "\n",
       "    .colab-df-convert {\n",
       "      background-color: #E8F0FE;\n",
       "      border: none;\n",
       "      border-radius: 50%;\n",
       "      cursor: pointer;\n",
       "      display: none;\n",
       "      fill: #1967D2;\n",
       "      height: 32px;\n",
       "      padding: 0 0 0 0;\n",
       "      width: 32px;\n",
       "    }\n",
       "\n",
       "    .colab-df-convert:hover {\n",
       "      background-color: #E2EBFA;\n",
       "      box-shadow: 0px 1px 2px rgba(60, 64, 67, 0.3), 0px 1px 3px 1px rgba(60, 64, 67, 0.15);\n",
       "      fill: #174EA6;\n",
       "    }\n",
       "\n",
       "    [theme=dark] .colab-df-convert {\n",
       "      background-color: #3B4455;\n",
       "      fill: #D2E3FC;\n",
       "    }\n",
       "\n",
       "    [theme=dark] .colab-df-convert:hover {\n",
       "      background-color: #434B5C;\n",
       "      box-shadow: 0px 1px 3px 1px rgba(0, 0, 0, 0.15);\n",
       "      filter: drop-shadow(0px 1px 2px rgba(0, 0, 0, 0.3));\n",
       "      fill: #FFFFFF;\n",
       "    }\n",
       "  </style>\n",
       "\n",
       "      <script>\n",
       "        const buttonEl =\n",
       "          document.querySelector('#df-fe34bbc2-4f7f-4fe7-8152-a5eb624646f0 button.colab-df-convert');\n",
       "        buttonEl.style.display =\n",
       "          google.colab.kernel.accessAllowed ? 'block' : 'none';\n",
       "\n",
       "        async function convertToInteractive(key) {\n",
       "          const element = document.querySelector('#df-fe34bbc2-4f7f-4fe7-8152-a5eb624646f0');\n",
       "          const dataTable =\n",
       "            await google.colab.kernel.invokeFunction('convertToInteractive',\n",
       "                                                     [key], {});\n",
       "          if (!dataTable) return;\n",
       "\n",
       "          const docLinkHtml = 'Like what you see? Visit the ' +\n",
       "            '<a target=\"_blank\" href=https://colab.research.google.com/notebooks/data_table.ipynb>data table notebook</a>'\n",
       "            + ' to learn more about interactive tables.';\n",
       "          element.innerHTML = '';\n",
       "          dataTable['output_type'] = 'display_data';\n",
       "          await google.colab.output.renderOutput(dataTable, element);\n",
       "          const docLink = document.createElement('div');\n",
       "          docLink.innerHTML = docLinkHtml;\n",
       "          element.appendChild(docLink);\n",
       "        }\n",
       "      </script>\n",
       "    </div>\n",
       "  </div>\n",
       "  "
      ],
      "text/plain": [
       "                               Title   \\\n",
       "0                          PhotogReno   \n",
       "1                      Barely Natural   \n",
       "2       Number One Adult Modeling USA   \n",
       "3                      deluxe imagery   \n",
       "4                       Ignite Photos   \n",
       "..                                ...   \n",
       "205                  HR Administrator   \n",
       "206  Sales Development Representative   \n",
       "207              Accountant Reporting   \n",
       "208         Pricing Financial Analyst   \n",
       "209                 Finance Executive   \n",
       "\n",
       "                                                   URL  \\\n",
       "0    https://www.sexyjobs.com/jobs/nude-modeling/E6...   \n",
       "1    https://www.sexyjobs.com/jobs/nude-modeling/E8...   \n",
       "2    https://www.sexyjobs.com/jobs/nude-modeling/E6...   \n",
       "3    https://www.sexyjobs.com/jobs/nude-modeling/E1...   \n",
       "4    https://www.sexyjobs.com/jobs/nude-modeling/E1...   \n",
       "..                                                 ...   \n",
       "205  https://www.indeed.com/viewjob?jk=1b14d3c3aef6...   \n",
       "206  https://www.linkedin.com/jobs/view/3494408821/...   \n",
       "207  https://www.indeed.com/viewjob?jk=562882f39f93...   \n",
       "208  https://www.indeed.com/viewjob?jk=d63c9d2e8fcd...   \n",
       "209  https://www.linkedin.com/jobs/view/3383085519/...   \n",
       "\n",
       "                                       Advertisements     Category     \n",
       "0    I'm seeking models for publication in a *major...  Illegitimate   \n",
       "1    We seek reliable models of all experiences for...  Illegitimate   \n",
       "2    Looking for new and existing talent to appear ...  Illegitimate   \n",
       "3    looking for female models for adult themed sho...  Illegitimate   \n",
       "4    Established photo and video, professional, loo...  Illegitimate   \n",
       "..                                                 ...            ...  \n",
       "205  Essity is a global company that is paving the ...    Legitimate   \n",
       "206  The role is dedicated to lead management and n...    Legitimate   \n",
       "207  The primary function of the Accountant Reporti...    Legitimate   \n",
       "208  Essity is a leading global hygiene and health ...    Legitimate   \n",
       "209  FE fundinfo is a global leader in investment f...    Legitimate   \n",
       "\n",
       "[210 rows x 4 columns]"
      ]
     },
     "execution_count": 3,
     "metadata": {},
     "output_type": "execute_result"
    }
   ],
   "source": [
    "import pandas as obsen_jbS\n",
    "obsen_jb = obsen_jbS.read_excel(obsen_jb_xl)\n",
    "obsen_jb"
   ]
  },
  {
   "cell_type": "code",
   "execution_count": null,
   "metadata": {
    "colab": {
     "base_uri": "https://localhost:8080/",
     "height": 555
    },
    "executionInfo": {
     "elapsed": 60,
     "status": "ok",
     "timestamp": 1680087393322,
     "user": {
      "displayName": "Jada Projects",
      "userId": "13935386077665551865"
     },
     "user_tz": -330
    },
    "id": "rYAagqsdSGoC",
    "outputId": "55d0ad93-b2af-445a-f420-8bb20e72f154"
   },
   "outputs": [
    {
     "data": {
      "text/plain": [
       "0                        PhotogReno\n",
       "1                    Barely Natural\n",
       "2     Number One Adult Modeling USA\n",
       "3                    deluxe imagery\n",
       "4                     Ignite Photos\n",
       "5                 ADULT FILM STUDIO\n",
       "6      Intimate Visions Photography\n",
       "7            Joe Bowers Photography\n",
       "8           Kinky Sweat Productions\n",
       "9               Brixton Photography\n",
       "10          DANIEL GOLD PHOTOGRAPHY\n",
       "11               Steel Rings Studio\n",
       "12           Photography byDejaMars\n",
       "13                         Sellfies\n",
       "14                      DeeFIT Inc.\n",
       "15                   Dan Jahn Photo\n",
       "16                       sMiles INC\n",
       "17                    Astound Photo\n",
       "18                    Gregory Smith\n",
       "19                             None\n",
       "20                     femaleclips1\n",
       "21                    Neuroticagent\n",
       "22                    WaifuOverlord\n",
       "23           Octothorpe Photography\n",
       "24                     Scarf Queens\n",
       "25              We Love ballbusting\n",
       "26                       Rich Video\n",
       "27                     Vic Rul Corp\n",
       "28                   LS productions\n",
       "29                              Tyk\n",
       "Name: Title , dtype: object"
      ]
     },
     "metadata": {},
     "output_type": "display_data"
    }
   ],
   "source": [
    "display(obsen_jb['Title '][:30])## title of the job"
   ]
  },
  {
   "cell_type": "code",
   "execution_count": null,
   "metadata": {
    "colab": {
     "base_uri": "https://localhost:8080/",
     "height": 104
    },
    "executionInfo": {
     "elapsed": 59,
     "status": "ok",
     "timestamp": 1680087393324,
     "user": {
      "displayName": "Jada Projects",
      "userId": "13935386077665551865"
     },
     "user_tz": -330
    },
    "id": "wCLRPwiGSGrA",
    "outputId": "78d22ec5-39a6-49b0-a13f-607391e4d44c"
   },
   "outputs": [
    {
     "data": {
      "text/plain": [
       "Title              203\n",
       "URL                210\n",
       "Advertisements     200\n",
       "Category             2\n",
       "dtype: int64"
      ]
     },
     "metadata": {},
     "output_type": "display_data"
    }
   ],
   "source": [
    "display(obsen_jb.nunique())"
   ]
  },
  {
   "cell_type": "code",
   "execution_count": null,
   "metadata": {
    "colab": {
     "base_uri": "https://localhost:8080/"
    },
    "executionInfo": {
     "elapsed": 57,
     "status": "ok",
     "timestamp": 1680087393325,
     "user": {
      "displayName": "Jada Projects",
      "userId": "13935386077665551865"
     },
     "user_tz": -330
    },
    "id": "Or-_lt4T1ieE",
    "outputId": "50fa8701-36ed-4f3c-9538-831d39d63ed2"
   },
   "outputs": [
    {
     "data": {
      "text/plain": [
       "Index(['Title ', 'URL', 'Advertisements ', 'Category   '], dtype='object')"
      ]
     },
     "execution_count": 6,
     "metadata": {},
     "output_type": "execute_result"
    }
   ],
   "source": [
    "obsen_jb.columns"
   ]
  },
  {
   "cell_type": "code",
   "execution_count": null,
   "metadata": {
    "colab": {
     "base_uri": "https://localhost:8080/"
    },
    "executionInfo": {
     "elapsed": 49,
     "status": "ok",
     "timestamp": 1680087393326,
     "user": {
      "displayName": "Jada Projects",
      "userId": "13935386077665551865"
     },
     "user_tz": -330
    },
    "id": "lPZV2vWCSGtn",
    "outputId": "f83ea905-fca8-47e5-8517-b048df9371b5"
   },
   "outputs": [
    {
     "data": {
      "text/plain": [
       "Illegitimate     119\n",
       "Legitimate        91\n",
       "Name: Category   , dtype: int64"
      ]
     },
     "execution_count": 7,
     "metadata": {},
     "output_type": "execute_result"
    }
   ],
   "source": [
    "obsen_jb['Category   '].value_counts()"
   ]
  },
  {
   "cell_type": "markdown",
   "metadata": {
    "id": "hvOUJ2P72B7p"
   },
   "source": [
    "* 119 job post are obscene job post and 91 job posts are legitimate jobs."
   ]
  },
  {
   "cell_type": "code",
   "execution_count": null,
   "metadata": {
    "colab": {
     "base_uri": "https://localhost:8080/"
    },
    "executionInfo": {
     "elapsed": 46,
     "status": "ok",
     "timestamp": 1680087393327,
     "user": {
      "displayName": "Jada Projects",
      "userId": "13935386077665551865"
     },
     "user_tz": -330
    },
    "id": "isn_rjo22BBK",
    "outputId": "ff67513b-b332-44a3-db30-e5ab27fff4a2"
   },
   "outputs": [
    {
     "data": {
      "text/plain": [
       "0    I'm seeking models for publication in a *major...\n",
       "1    We seek reliable models of all experiences for...\n",
       "2    Looking for new and existing talent to appear ...\n",
       "3    looking for female models for adult themed sho...\n",
       "4    Established photo and video, professional, loo...\n",
       "5    Looking for female models and performers for a...\n",
       "6    Photographer seeks female models comfortable w...\n",
       "7    I am a photographer and I also make videos tha...\n",
       "8    New production company looking for females for...\n",
       "9    A DC-based photographer slowly breaking into a...\n",
       "Name: Advertisements , dtype: object"
      ]
     },
     "execution_count": 8,
     "metadata": {},
     "output_type": "execute_result"
    }
   ],
   "source": [
    "obsen_jb['Advertisements '][:10]## few obscence jobs"
   ]
  },
  {
   "cell_type": "code",
   "execution_count": null,
   "metadata": {
    "colab": {
     "base_uri": "https://localhost:8080/"
    },
    "executionInfo": {
     "elapsed": 44,
     "status": "ok",
     "timestamp": 1680087393328,
     "user": {
      "displayName": "Jada Projects",
      "userId": "13935386077665551865"
     },
     "user_tz": -330
    },
    "id": "4Bir0YBQ2BEl",
    "outputId": "02be54ae-121a-49b4-e1bd-1c225681c492"
   },
   "outputs": [
    {
     "data": {
      "text/plain": [
       "200    At Hushh, we believe that data is the key to u...\n",
       "201    The Converting Maintenance Reliability Lead is...\n",
       "202    Fresh Prints is an NYC-based custom apparel st...\n",
       "203    The Electrical Instrumentation Technician is r...\n",
       "204    We are hiring for business development executi...\n",
       "205    Essity is a global company that is paving the ...\n",
       "206    The role is dedicated to lead management and n...\n",
       "207    The primary function of the Accountant Reporti...\n",
       "208    Essity is a leading global hygiene and health ...\n",
       "209    FE fundinfo is a global leader in investment f...\n",
       "Name: Advertisements , dtype: object"
      ]
     },
     "execution_count": 9,
     "metadata": {},
     "output_type": "execute_result"
    }
   ],
   "source": [
    "obsen_jb['Advertisements '][-10:] #few legitimate jobs"
   ]
  },
  {
   "cell_type": "code",
   "execution_count": null,
   "metadata": {
    "colab": {
     "base_uri": "https://localhost:8080/"
    },
    "executionInfo": {
     "elapsed": 42,
     "status": "ok",
     "timestamp": 1680087393329,
     "user": {
      "displayName": "Jada Projects",
      "userId": "13935386077665551865"
     },
     "user_tz": -330
    },
    "id": "lToY-KGV3GtN",
    "outputId": "6440177e-8c56-4682-f5a0-394e1049493b"
   },
   "outputs": [
    {
     "name": "stdout",
     "output_type": "stream",
     "text": [
      "<class 'pandas.core.frame.DataFrame'>\n",
      "RangeIndex: 210 entries, 0 to 209\n",
      "Data columns (total 4 columns):\n",
      " #   Column           Non-Null Count  Dtype \n",
      "---  ------           --------------  ----- \n",
      " 0   Title            210 non-null    object\n",
      " 1   URL              210 non-null    object\n",
      " 2   Advertisements   210 non-null    object\n",
      " 3   Category         210 non-null    object\n",
      "dtypes: object(4)\n",
      "memory usage: 6.7+ KB\n"
     ]
    }
   ],
   "source": [
    "obsen_jb.info()"
   ]
  },
  {
   "cell_type": "markdown",
   "metadata": {
    "id": "2H5zld1YIv5i"
   },
   "source": [
    "** no missing data and no null data found"
   ]
  },
  {
   "cell_type": "code",
   "execution_count": null,
   "metadata": {
    "id": "chszok9g2BLh"
   },
   "outputs": [],
   "source": [
    "# avoid the below columns here...\n",
    "del obsen_jb['Title ']\n",
    "del obsen_jb['URL']"
   ]
  },
  {
   "cell_type": "code",
   "execution_count": null,
   "metadata": {
    "colab": {
     "base_uri": "https://localhost:8080/",
     "height": 281
    },
    "executionInfo": {
     "elapsed": 39,
     "status": "ok",
     "timestamp": 1680087393331,
     "user": {
      "displayName": "Jada Projects",
      "userId": "13935386077665551865"
     },
     "user_tz": -330
    },
    "id": "3DDYRBhC6l2b",
    "outputId": "647861c6-253f-4fdb-d33b-9b86abedae4e"
   },
   "outputs": [
    {
     "data": {
      "text/plain": [
       "<Axes: title={'center': 'Job Category'}, ylabel='None'>"
      ]
     },
     "execution_count": 12,
     "metadata": {},
     "output_type": "execute_result"
    },
    {
     "data": {
      "image/png": "[encoded data removed]",
      "text/plain": [
       "<Figure size 432x288 with 1 Axes>"
      ]
     },
     "metadata": {},
     "output_type": "display_data"
    }
   ],
   "source": [
    "## graphical view\n",
    "obsen_jb.groupby('Category   ').size().plot( autopct='%10.0f%%', kind='pie', legend=True, title='Job Category')"
   ]
  },
  {
   "cell_type": "markdown",
   "metadata": {
    "id": "qLz5jGW16_nk"
   },
   "source": [
    "Comparred to legitimate illegitimate(obscene) jobs are high."
   ]
  },
  {
   "cell_type": "markdown",
   "metadata": {
    "id": "K_Dlj-pM6a3R"
   },
   "source": [
    "## Natural Language PRocessing"
   ]
  },
  {
   "cell_type": "code",
   "execution_count": null,
   "metadata": {
    "colab": {
     "base_uri": "https://localhost:8080/"
    },
    "executionInfo": {
     "elapsed": 1086,
     "status": "ok",
     "timestamp": 1680087394383,
     "user": {
      "displayName": "Jada Projects",
      "userId": "13935386077665551865"
     },
     "user_tz": -330
    },
    "id": "Cv21fZmE7och",
    "outputId": "bda82dd7-6a5e-4778-d44d-3a4cbfeb02f8"
   },
   "outputs": [
    {
     "name": "stderr",
     "output_type": "stream",
     "text": [
      "[nltk_data] Downloading package stopwords to /root/nltk_data...\n",
      "[nltk_data]   Package stopwords is already up-to-date!\n"
     ]
    },
    {
     "data": {
      "text/plain": [
       "True"
      ]
     },
     "execution_count": 13,
     "metadata": {},
     "output_type": "execute_result"
    }
   ],
   "source": [
    "import nltk as NTobsen_jb\n",
    "NTobsen_jb.download('stopwords')"
   ]
  },
  {
   "cell_type": "code",
   "execution_count": null,
   "metadata": {
    "id": "DIHDFAKD6aOk"
   },
   "outputs": [],
   "source": [
    "import regex as XGobsen_jb\n",
    "from nltk.corpus import stopwords as WSDobsen_jb\n",
    "WSDobsen_jb_K = WSDobsen_jb.words('english')\n",
    "\n",
    "def obs(jb):\n",
    "    jb = jb.lower()# make text into lower case\n",
    "    jb = XGobsen_jb.sub(\"[^a-z]+\", \" \", jb) # remove all characters from text\n",
    "    jb = \" \".join([j for j in jb.split() if j not in WSDobsen_jb_K])\n",
    "    return jb"
   ]
  },
  {
   "cell_type": "code",
   "execution_count": null,
   "metadata": {
    "colab": {
     "base_uri": "https://localhost:8080/",
     "height": 423
    },
    "executionInfo": {
     "elapsed": 10,
     "status": "ok",
     "timestamp": 1680087394384,
     "user": {
      "displayName": "Jada Projects",
      "userId": "13935386077665551865"
     },
     "user_tz": -330
    },
    "id": "Zo-LVaBj6aRu",
    "outputId": "adc00615-ff2d-4a6f-ce81-8d01b3264693"
   },
   "outputs": [
    {
     "data": {
      "text/html": [
       "\n",
       "  <div id=\"df-1ff17eae-3ed7-4459-b592-a25e531cdbc4\">\n",
       "    <div class=\"colab-df-container\">\n",
       "      <div>\n",
       "<style scoped>\n",
       "    .dataframe tbody tr th:only-of-type {\n",
       "        vertical-align: middle;\n",
       "    }\n",
       "\n",
       "    .dataframe tbody tr th {\n",
       "        vertical-align: top;\n",
       "    }\n",
       "\n",
       "    .dataframe thead th {\n",
       "        text-align: right;\n",
       "    }\n",
       "</style>\n",
       "<table border=\"1\" class=\"dataframe\">\n",
       "  <thead>\n",
       "    <tr style=\"text-align: right;\">\n",
       "      <th></th>\n",
       "      <th>Advertisements</th>\n",
       "      <th>Category</th>\n",
       "    </tr>\n",
       "  </thead>\n",
       "  <tbody>\n",
       "    <tr>\n",
       "      <th>0</th>\n",
       "      <td>seeking models publication major men adult mag...</td>\n",
       "      <td>Illegitimate</td>\n",
       "    </tr>\n",
       "    <tr>\n",
       "      <th>1</th>\n",
       "      <td>seek reliable models experiences art nude erot...</td>\n",
       "      <td>Illegitimate</td>\n",
       "    </tr>\n",
       "    <tr>\n",
       "      <th>2</th>\n",
       "      <td>looking new existing talent appear variety mod...</td>\n",
       "      <td>Illegitimate</td>\n",
       "    </tr>\n",
       "    <tr>\n",
       "      <th>3</th>\n",
       "      <td>looking female models adult themed shoots prov...</td>\n",
       "      <td>Illegitimate</td>\n",
       "    </tr>\n",
       "    <tr>\n",
       "      <th>4</th>\n",
       "      <td>established photo video professional looking n...</td>\n",
       "      <td>Illegitimate</td>\n",
       "    </tr>\n",
       "    <tr>\n",
       "      <th>...</th>\n",
       "      <td>...</td>\n",
       "      <td>...</td>\n",
       "    </tr>\n",
       "    <tr>\n",
       "      <th>95</th>\n",
       "      <td>good afternoon process seeking models help cre...</td>\n",
       "      <td>Illegitimate</td>\n",
       "    </tr>\n",
       "    <tr>\n",
       "      <th>96</th>\n",
       "      <td>looking female talent specialize lingerie curv...</td>\n",
       "      <td>Illegitimate</td>\n",
       "    </tr>\n",
       "    <tr>\n",
       "      <th>97</th>\n",
       "      <td>hello twin cities based photographer looking e...</td>\n",
       "      <td>Illegitimate</td>\n",
       "    </tr>\n",
       "    <tr>\n",
       "      <th>98</th>\n",
       "      <td>models amateur pro wide variety modeling jobs ...</td>\n",
       "      <td>Illegitimate</td>\n",
       "    </tr>\n",
       "    <tr>\n",
       "      <th>99</th>\n",
       "      <td>looking busty females show cleavage role playi...</td>\n",
       "      <td>Illegitimate</td>\n",
       "    </tr>\n",
       "  </tbody>\n",
       "</table>\n",
       "<p>100 rows × 2 columns</p>\n",
       "</div>\n",
       "      <button class=\"colab-df-convert\" onclick=\"convertToInteractive('df-1ff17eae-3ed7-4459-b592-a25e531cdbc4')\"\n",
       "              title=\"Convert this dataframe to an interactive table.\"\n",
       "              style=\"display:none;\">\n",
       "        \n",
       "  <svg xmlns=\"http://www.w3.org/2000/svg\" height=\"24px\"viewBox=\"0 0 24 24\"\n",
       "       width=\"24px\">\n",
       "    <path d=\"M0 0h24v24H0V0z\" fill=\"none\"/>\n",
       "    <path d=\"M18.56 5.44l.94 2.06.94-2.06 2.06-.94-2.06-.94-.94-2.06-.94 2.06-2.06.94zm-11 1L8.5 8.5l.94-2.06 2.06-.94-2.06-.94L8.5 2.5l-.94 2.06-2.06.94zm10 10l.94 2.06.94-2.06 2.06-.94-2.06-.94-.94-2.06-.94 2.06-2.06.94z\"/><path d=\"M17.41 7.96l-1.37-1.37c-.4-.4-.92-.59-1.43-.59-.52 0-1.04.2-1.43.59L10.3 9.45l-7.72 7.72c-.78.78-.78 2.05 0 2.83L4 21.41c.39.39.9.59 1.41.59.51 0 1.02-.2 1.41-.59l7.78-7.78 2.81-2.81c.8-.78.8-2.07 0-2.86zM5.41 20L4 18.59l7.72-7.72 1.47 1.35L5.41 20z\"/>\n",
       "  </svg>\n",
       "      </button>\n",
       "      \n",
       "  <style>\n",
       "    .colab-df-container {\n",
       "      display:flex;\n",
       "      flex-wrap:wrap;\n",
       "      gap: 12px;\n",
       "    }\n",
       "\n",
       "    .colab-df-convert {\n",
       "      background-color: #E8F0FE;\n",
       "      border: none;\n",
       "      border-radius: 50%;\n",
       "      cursor: pointer;\n",
       "      display: none;\n",
       "      fill: #1967D2;\n",
       "      height: 32px;\n",
       "      padding: 0 0 0 0;\n",
       "      width: 32px;\n",
       "    }\n",
       "\n",
       "    .colab-df-convert:hover {\n",
       "      background-color: #E2EBFA;\n",
       "      box-shadow: 0px 1px 2px rgba(60, 64, 67, 0.3), 0px 1px 3px 1px rgba(60, 64, 67, 0.15);\n",
       "      fill: #174EA6;\n",
       "    }\n",
       "\n",
       "    [theme=dark] .colab-df-convert {\n",
       "      background-color: #3B4455;\n",
       "      fill: #D2E3FC;\n",
       "    }\n",
       "\n",
       "    [theme=dark] .colab-df-convert:hover {\n",
       "      background-color: #434B5C;\n",
       "      box-shadow: 0px 1px 3px 1px rgba(0, 0, 0, 0.15);\n",
       "      filter: drop-shadow(0px 1px 2px rgba(0, 0, 0, 0.3));\n",
       "      fill: #FFFFFF;\n",
       "    }\n",
       "  </style>\n",
       "\n",
       "      <script>\n",
       "        const buttonEl =\n",
       "          document.querySelector('#df-1ff17eae-3ed7-4459-b592-a25e531cdbc4 button.colab-df-convert');\n",
       "        buttonEl.style.display =\n",
       "          google.colab.kernel.accessAllowed ? 'block' : 'none';\n",
       "\n",
       "        async function convertToInteractive(key) {\n",
       "          const element = document.querySelector('#df-1ff17eae-3ed7-4459-b592-a25e531cdbc4');\n",
       "          const dataTable =\n",
       "            await google.colab.kernel.invokeFunction('convertToInteractive',\n",
       "                                                     [key], {});\n",
       "          if (!dataTable) return;\n",
       "\n",
       "          const docLinkHtml = 'Like what you see? Visit the ' +\n",
       "            '<a target=\"_blank\" href=https://colab.research.google.com/notebooks/data_table.ipynb>data table notebook</a>'\n",
       "            + ' to learn more about interactive tables.';\n",
       "          element.innerHTML = '';\n",
       "          dataTable['output_type'] = 'display_data';\n",
       "          await google.colab.output.renderOutput(dataTable, element);\n",
       "          const docLink = document.createElement('div');\n",
       "          docLink.innerHTML = docLinkHtml;\n",
       "          element.appendChild(docLink);\n",
       "        }\n",
       "      </script>\n",
       "    </div>\n",
       "  </div>\n",
       "  "
      ],
      "text/plain": [
       "                                      Advertisements     Category   \n",
       "0   seeking models publication major men adult mag...  Illegitimate \n",
       "1   seek reliable models experiences art nude erot...  Illegitimate \n",
       "2   looking new existing talent appear variety mod...  Illegitimate \n",
       "3   looking female models adult themed shoots prov...  Illegitimate \n",
       "4   established photo video professional looking n...  Illegitimate \n",
       "..                                                ...            ...\n",
       "95  good afternoon process seeking models help cre...  Illegitimate \n",
       "96  looking female talent specialize lingerie curv...  Illegitimate \n",
       "97  hello twin cities based photographer looking e...  Illegitimate \n",
       "98  models amateur pro wide variety modeling jobs ...  Illegitimate \n",
       "99  looking busty females show cleavage role playi...  Illegitimate \n",
       "\n",
       "[100 rows x 2 columns]"
      ]
     },
     "execution_count": 15,
     "metadata": {},
     "output_type": "execute_result"
    }
   ],
   "source": [
    "leg_lt=[]\n",
    "for jb in obsen_jb['Advertisements ']:\n",
    "    leg_lt.append(obs(jb))#3 call the function 'obs'\n",
    "\n",
    "## make nlp happened content as 'Advertisements'\n",
    "obsen_jb['Advertisements ']=leg_lt\n",
    "obsen_jb.head(n=100)"
   ]
  },
  {
   "cell_type": "code",
   "execution_count": null,
   "metadata": {
    "id": "-B2Q10wr6aUy"
   },
   "outputs": [],
   "source": [
    "obsen_jb.to_csv('obsen_jb_NLP.csv', index=False)"
   ]
  }
 ],
 "metadata": {
  "colab": {
   "provenance": []
  },
  "kernelspec": {
   "display_name": "Python 3 (ipykernel)",
   "language": "python",
   "name": "python3"
  },
  "language_info": {
   "codemirror_mode": {
    "name": "ipython",
    "version": 3
   },
   "file_extension": ".py",
   "mimetype": "text/x-python",
   "name": "python",
   "nbconvert_exporter": "python",
   "pygments_lexer": "ipython3",
   "version": "3.9.13"
  }
 },
 "nbformat": 4,
 "nbformat_minor": 1
}
