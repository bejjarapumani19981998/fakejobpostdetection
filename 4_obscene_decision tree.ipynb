{
 "cells": [
  {
   "cell_type": "code",
   "execution_count": 1,
   "metadata": {
    "colab": {
     "base_uri": "https://localhost:8080/"
    },
    "executionInfo": {
     "elapsed": 25769,
     "status": "ok",
     "timestamp": 1689773143574,
     "user": {
      "displayName": "Jada Jasphin",
      "userId": "06483295825871656487"
     },
     "user_tz": -330
    },
    "id": "zXR-o3rOKaTI",
    "outputId": "80165824-3161-435b-b699-7b2b95d81f70"
   },
   "outputs": [
    {
     "name": "stdout",
     "output_type": "stream",
     "text": [
      "Mounted at /content/drive\n"
     ]
    }
   ],
   "source": [
    "from google.colab import drive\n",
    "drive.mount('/content/drive')"
   ]
  },
  {
   "cell_type": "code",
   "execution_count": 2,
   "metadata": {
    "colab": {
     "base_uri": "https://localhost:8080/",
     "height": 423
    },
    "executionInfo": {
     "elapsed": 1851,
     "status": "ok",
     "timestamp": 1689773145405,
     "user": {
      "displayName": "Jada Jasphin",
      "userId": "06483295825871656487"
     },
     "user_tz": -330
    },
    "id": "BykUb67qMkXM",
    "outputId": "8d5165a4-c6cc-4efb-b175-2436cfdb7ecd"
   },
   "outputs": [
    {
     "data": {
      "text/html": [
       "\n",
       "\n",
       "  <div id=\"df-020afe4d-dee0-466a-93d7-22b85794b84f\">\n",
       "    <div class=\"colab-df-container\">\n",
       "      <div>\n",
       "<style scoped>\n",
       "    .dataframe tbody tr th:only-of-type {\n",
       "        vertical-align: middle;\n",
       "    }\n",
       "\n",
       "    .dataframe tbody tr th {\n",
       "        vertical-align: top;\n",
       "    }\n",
       "\n",
       "    .dataframe thead th {\n",
       "        text-align: right;\n",
       "    }\n",
       "</style>\n",
       "<table border=\"1\" class=\"dataframe\">\n",
       "  <thead>\n",
       "    <tr style=\"text-align: right;\">\n",
       "      <th></th>\n",
       "      <th>Advertisements</th>\n",
       "      <th>Category</th>\n",
       "    </tr>\n",
       "  </thead>\n",
       "  <tbody>\n",
       "    <tr>\n",
       "      <th>0</th>\n",
       "      <td>seeking models publication major men adult mag...</td>\n",
       "      <td>Illegitimate</td>\n",
       "    </tr>\n",
       "    <tr>\n",
       "      <th>1</th>\n",
       "      <td>seek reliable models experiences art nude erot...</td>\n",
       "      <td>Illegitimate</td>\n",
       "    </tr>\n",
       "    <tr>\n",
       "      <th>2</th>\n",
       "      <td>looking new existing talent appear variety mod...</td>\n",
       "      <td>Illegitimate</td>\n",
       "    </tr>\n",
       "    <tr>\n",
       "      <th>3</th>\n",
       "      <td>looking female models adult themed shoots prov...</td>\n",
       "      <td>Illegitimate</td>\n",
       "    </tr>\n",
       "    <tr>\n",
       "      <th>4</th>\n",
       "      <td>established photo video professional looking n...</td>\n",
       "      <td>Illegitimate</td>\n",
       "    </tr>\n",
       "    <tr>\n",
       "      <th>...</th>\n",
       "      <td>...</td>\n",
       "      <td>...</td>\n",
       "    </tr>\n",
       "    <tr>\n",
       "      <th>205</th>\n",
       "      <td>essity global company paving way towards digit...</td>\n",
       "      <td>Legitimate</td>\n",
       "    </tr>\n",
       "    <tr>\n",
       "      <th>206</th>\n",
       "      <td>role dedicated lead management nurturing leads...</td>\n",
       "      <td>Legitimate</td>\n",
       "    </tr>\n",
       "    <tr>\n",
       "      <th>207</th>\n",
       "      <td>primary function accountant reporting assist a...</td>\n",
       "      <td>Legitimate</td>\n",
       "    </tr>\n",
       "    <tr>\n",
       "      <th>208</th>\n",
       "      <td>essity leading global hygiene health company d...</td>\n",
       "      <td>Legitimate</td>\n",
       "    </tr>\n",
       "    <tr>\n",
       "      <th>209</th>\n",
       "      <td>fe fundinfo global leader investment fund data...</td>\n",
       "      <td>Legitimate</td>\n",
       "    </tr>\n",
       "  </tbody>\n",
       "</table>\n",
       "<p>210 rows × 2 columns</p>\n",
       "</div>\n",
       "      <button class=\"colab-df-convert\" onclick=\"convertToInteractive('df-020afe4d-dee0-466a-93d7-22b85794b84f')\"\n",
       "              title=\"Convert this dataframe to an interactive table.\"\n",
       "              style=\"display:none;\">\n",
       "\n",
       "  <svg xmlns=\"http://www.w3.org/2000/svg\" height=\"24px\"viewBox=\"0 0 24 24\"\n",
       "       width=\"24px\">\n",
       "    <path d=\"M0 0h24v24H0V0z\" fill=\"none\"/>\n",
       "    <path d=\"M18.56 5.44l.94 2.06.94-2.06 2.06-.94-2.06-.94-.94-2.06-.94 2.06-2.06.94zm-11 1L8.5 8.5l.94-2.06 2.06-.94-2.06-.94L8.5 2.5l-.94 2.06-2.06.94zm10 10l.94 2.06.94-2.06 2.06-.94-2.06-.94-.94-2.06-.94 2.06-2.06.94z\"/><path d=\"M17.41 7.96l-1.37-1.37c-.4-.4-.92-.59-1.43-.59-.52 0-1.04.2-1.43.59L10.3 9.45l-7.72 7.72c-.78.78-.78 2.05 0 2.83L4 21.41c.39.39.9.59 1.41.59.51 0 1.02-.2 1.41-.59l7.78-7.78 2.81-2.81c.8-.78.8-2.07 0-2.86zM5.41 20L4 18.59l7.72-7.72 1.47 1.35L5.41 20z\"/>\n",
       "  </svg>\n",
       "      </button>\n",
       "\n",
       "\n",
       "\n",
       "    <div id=\"df-f8c56cb1-7e01-4ab8-94a0-bd939b61f081\">\n",
       "      <button class=\"colab-df-quickchart\" onclick=\"quickchart('df-f8c56cb1-7e01-4ab8-94a0-bd939b61f081')\"\n",
       "              title=\"Suggest charts.\"\n",
       "              style=\"display:none;\">\n",
       "\n",
       "<svg xmlns=\"http://www.w3.org/2000/svg\" height=\"24px\"viewBox=\"0 0 24 24\"\n",
       "     width=\"24px\">\n",
       "    <g>\n",
       "        <path d=\"M19 3H5c-1.1 0-2 .9-2 2v14c0 1.1.9 2 2 2h14c1.1 0 2-.9 2-2V5c0-1.1-.9-2-2-2zM9 17H7v-7h2v7zm4 0h-2V7h2v10zm4 0h-2v-4h2v4z\"/>\n",
       "    </g>\n",
       "</svg>\n",
       "      </button>\n",
       "    </div>\n",
       "\n",
       "<style>\n",
       "  .colab-df-quickchart {\n",
       "    background-color: #E8F0FE;\n",
       "    border: none;\n",
       "    border-radius: 50%;\n",
       "    cursor: pointer;\n",
       "    display: none;\n",
       "    fill: #1967D2;\n",
       "    height: 32px;\n",
       "    padding: 0 0 0 0;\n",
       "    width: 32px;\n",
       "  }\n",
       "\n",
       "  .colab-df-quickchart:hover {\n",
       "    background-color: #E2EBFA;\n",
       "    box-shadow: 0px 1px 2px rgba(60, 64, 67, 0.3), 0px 1px 3px 1px rgba(60, 64, 67, 0.15);\n",
       "    fill: #174EA6;\n",
       "  }\n",
       "\n",
       "  [theme=dark] .colab-df-quickchart {\n",
       "    background-color: #3B4455;\n",
       "    fill: #D2E3FC;\n",
       "  }\n",
       "\n",
       "  [theme=dark] .colab-df-quickchart:hover {\n",
       "    background-color: #434B5C;\n",
       "    box-shadow: 0px 1px 3px 1px rgba(0, 0, 0, 0.15);\n",
       "    filter: drop-shadow(0px 1px 2px rgba(0, 0, 0, 0.3));\n",
       "    fill: #FFFFFF;\n",
       "  }\n",
       "</style>\n",
       "\n",
       "    <script>\n",
       "      async function quickchart(key) {\n",
       "        const containerElement = document.querySelector('#' + key);\n",
       "        const charts = await google.colab.kernel.invokeFunction(\n",
       "            'suggestCharts', [key], {});\n",
       "      }\n",
       "    </script>\n",
       "\n",
       "      <script>\n",
       "\n",
       "function displayQuickchartButton(domScope) {\n",
       "  let quickchartButtonEl =\n",
       "    domScope.querySelector('#df-f8c56cb1-7e01-4ab8-94a0-bd939b61f081 button.colab-df-quickchart');\n",
       "  quickchartButtonEl.style.display =\n",
       "    google.colab.kernel.accessAllowed ? 'block' : 'none';\n",
       "}\n",
       "\n",
       "        displayQuickchartButton(document);\n",
       "      </script>\n",
       "      <style>\n",
       "    .colab-df-container {\n",
       "      display:flex;\n",
       "      flex-wrap:wrap;\n",
       "      gap: 12px;\n",
       "    }\n",
       "\n",
       "    .colab-df-convert {\n",
       "      background-color: #E8F0FE;\n",
       "      border: none;\n",
       "      border-radius: 50%;\n",
       "      cursor: pointer;\n",
       "      display: none;\n",
       "      fill: #1967D2;\n",
       "      height: 32px;\n",
       "      padding: 0 0 0 0;\n",
       "      width: 32px;\n",
       "    }\n",
       "\n",
       "    .colab-df-convert:hover {\n",
       "      background-color: #E2EBFA;\n",
       "      box-shadow: 0px 1px 2px rgba(60, 64, 67, 0.3), 0px 1px 3px 1px rgba(60, 64, 67, 0.15);\n",
       "      fill: #174EA6;\n",
       "    }\n",
       "\n",
       "    [theme=dark] .colab-df-convert {\n",
       "      background-color: #3B4455;\n",
       "      fill: #D2E3FC;\n",
       "    }\n",
       "\n",
       "    [theme=dark] .colab-df-convert:hover {\n",
       "      background-color: #434B5C;\n",
       "      box-shadow: 0px 1px 3px 1px rgba(0, 0, 0, 0.15);\n",
       "      filter: drop-shadow(0px 1px 2px rgba(0, 0, 0, 0.3));\n",
       "      fill: #FFFFFF;\n",
       "    }\n",
       "  </style>\n",
       "\n",
       "      <script>\n",
       "        const buttonEl =\n",
       "          document.querySelector('#df-020afe4d-dee0-466a-93d7-22b85794b84f button.colab-df-convert');\n",
       "        buttonEl.style.display =\n",
       "          google.colab.kernel.accessAllowed ? 'block' : 'none';\n",
       "\n",
       "        async function convertToInteractive(key) {\n",
       "          const element = document.querySelector('#df-020afe4d-dee0-466a-93d7-22b85794b84f');\n",
       "          const dataTable =\n",
       "            await google.colab.kernel.invokeFunction('convertToInteractive',\n",
       "                                                     [key], {});\n",
       "          if (!dataTable) return;\n",
       "\n",
       "          const docLinkHtml = 'Like what you see? Visit the ' +\n",
       "            '<a target=\"_blank\" href=https://colab.research.google.com/notebooks/data_table.ipynb>data table notebook</a>'\n",
       "            + ' to learn more about interactive tables.';\n",
       "          element.innerHTML = '';\n",
       "          dataTable['output_type'] = 'display_data';\n",
       "          await google.colab.output.renderOutput(dataTable, element);\n",
       "          const docLink = document.createElement('div');\n",
       "          docLink.innerHTML = docLinkHtml;\n",
       "          element.appendChild(docLink);\n",
       "        }\n",
       "      </script>\n",
       "    </div>\n",
       "  </div>\n"
      ],
      "text/plain": [
       "                                       Advertisements     Category   \n",
       "0    seeking models publication major men adult mag...  Illegitimate \n",
       "1    seek reliable models experiences art nude erot...  Illegitimate \n",
       "2    looking new existing talent appear variety mod...  Illegitimate \n",
       "3    looking female models adult themed shoots prov...  Illegitimate \n",
       "4    established photo video professional looking n...  Illegitimate \n",
       "..                                                 ...            ...\n",
       "205  essity global company paving way towards digit...    Legitimate \n",
       "206  role dedicated lead management nurturing leads...    Legitimate \n",
       "207  primary function accountant reporting assist a...    Legitimate \n",
       "208  essity leading global hygiene health company d...    Legitimate \n",
       "209  fe fundinfo global leader investment fund data...    Legitimate \n",
       "\n",
       "[210 rows x 2 columns]"
      ]
     },
     "execution_count": 2,
     "metadata": {},
     "output_type": "execute_result"
    }
   ],
   "source": [
    "import pandas as obsen_jbS\n",
    "obsen_jb = obsen_jbS.read_csv('/content/drive/MyDrive/March2023/Identifying obsence job posts using NLP and machine learning/obsen_jb_NLP.csv')\n",
    "obsen_jb"
   ]
  },
  {
   "cell_type": "code",
   "execution_count": 3,
   "metadata": {
    "colab": {
     "base_uri": "https://localhost:8080/"
    },
    "executionInfo": {
     "elapsed": 80,
     "status": "ok",
     "timestamp": 1689773145435,
     "user": {
      "displayName": "Jada Jasphin",
      "userId": "06483295825871656487"
     },
     "user_tz": -330
    },
    "id": "IF_l2A61MkaX",
    "outputId": "0e6c478f-99c7-4460-8dc8-11c526b16426"
   },
   "outputs": [
    {
     "data": {
      "text/plain": [
       "Illegitimate     119\n",
       "Legitimate        91\n",
       "Name: Category   , dtype: int64"
      ]
     },
     "execution_count": 3,
     "metadata": {},
     "output_type": "execute_result"
    }
   ],
   "source": [
    "obsen_jb['Category   '].value_counts()"
   ]
  },
  {
   "cell_type": "code",
   "execution_count": 4,
   "metadata": {
    "colab": {
     "base_uri": "https://localhost:8080/"
    },
    "executionInfo": {
     "elapsed": 1262,
     "status": "ok",
     "timestamp": 1689773146628,
     "user": {
      "displayName": "Jada Jasphin",
      "userId": "06483295825871656487"
     },
     "user_tz": -330
    },
    "id": "yrrbQajkMkgy",
    "outputId": "875dd5bd-9130-4a2d-8d54-50a8768ebb69"
   },
   "outputs": [
    {
     "data": {
      "text/plain": [
       "(210, 8)"
      ]
     },
     "execution_count": 4,
     "metadata": {},
     "output_type": "execute_result"
    }
   ],
   "source": [
    "import warnings as obsen_wng\n",
    "obsen_wng.filterwarnings(\"ignore\")\n",
    "from sklearn.feature_extraction.text import TfidfVectorizer as obsen_jb_TFVEC\n",
    "\n",
    "obsen_jbX = obsen_jb.drop('Category   ',axis=1)\n",
    "obsen_jbY = obsen_jb['Category   ']\n",
    "obsen_jb_TFVEC = obsen_jb_TFVEC(analyzer='char', ngram_range= (1,1))\n",
    "obsen_jbX = obsen_jb_TFVEC.fit_transform(obsen_jb['Category   '].values.astype('U')).toarray()\n",
    "obsen_jbX.shape"
   ]
  },
  {
   "cell_type": "code",
   "execution_count": 5,
   "metadata": {
    "colab": {
     "base_uri": "https://localhost:8080/"
    },
    "executionInfo": {
     "elapsed": 39,
     "status": "ok",
     "timestamp": 1689773146629,
     "user": {
      "displayName": "Jada Jasphin",
      "userId": "06483295825871656487"
     },
     "user_tz": -330
    },
    "id": "cFmR0bF3Mkjv",
    "outputId": "4cbe729b-2101-414f-b3ab-79f0f3b3f772"
   },
   "outputs": [
    {
     "data": {
      "text/plain": [
       "array([[0.2       , 0.2       , 0.4       , ..., 0.4       , 0.2       ,\n",
       "        0.4       ],\n",
       "       [0.2       , 0.2       , 0.4       , ..., 0.4       , 0.2       ,\n",
       "        0.4       ],\n",
       "       [0.2       , 0.2       , 0.4       , ..., 0.4       , 0.2       ,\n",
       "        0.4       ],\n",
       "       ...,\n",
       "       [0.24253563, 0.24253563, 0.48507125, ..., 0.24253563, 0.24253563,\n",
       "        0.48507125],\n",
       "       [0.24253563, 0.24253563, 0.48507125, ..., 0.24253563, 0.24253563,\n",
       "        0.48507125],\n",
       "       [0.24253563, 0.24253563, 0.48507125, ..., 0.24253563, 0.24253563,\n",
       "        0.48507125]])"
      ]
     },
     "execution_count": 5,
     "metadata": {},
     "output_type": "execute_result"
    }
   ],
   "source": [
    "obsen_jbX"
   ]
  },
  {
   "cell_type": "code",
   "execution_count": 6,
   "metadata": {
    "colab": {
     "base_uri": "https://localhost:8080/"
    },
    "executionInfo": {
     "elapsed": 23,
     "status": "ok",
     "timestamp": 1689773146632,
     "user": {
      "displayName": "Jada Jasphin",
      "userId": "06483295825871656487"
     },
     "user_tz": -330
    },
    "id": "NVl_I07xrtUJ",
    "outputId": "cdc99497-a469-4c63-f81d-7f69e57c1c9d"
   },
   "outputs": [
    {
     "data": {
      "text/plain": [
       "(210,)"
      ]
     },
     "execution_count": 6,
     "metadata": {},
     "output_type": "execute_result"
    }
   ],
   "source": [
    "obsen_jbY.shape"
   ]
  },
  {
   "cell_type": "code",
   "execution_count": 7,
   "metadata": {
    "colab": {
     "base_uri": "https://localhost:8080/"
    },
    "executionInfo": {
     "elapsed": 16,
     "status": "ok",
     "timestamp": 1689773146633,
     "user": {
      "displayName": "Jada Jasphin",
      "userId": "06483295825871656487"
     },
     "user_tz": -330
    },
    "id": "kqKbPSabeQOA",
    "outputId": "00d6bacf-a39c-4caa-8561-e1db73e9475a"
   },
   "outputs": [
    {
     "data": {
      "text/plain": [
       "Illegitimate     119\n",
       "Legitimate        91\n",
       "Name: Category   , dtype: int64"
      ]
     },
     "execution_count": 7,
     "metadata": {},
     "output_type": "execute_result"
    }
   ],
   "source": [
    "obsen_jb['Category   '].value_counts()"
   ]
  },
  {
   "cell_type": "markdown",
   "metadata": {
    "id": "Zlna8jG4uNHw"
   },
   "source": [
    "Data Splitting: 60% Training, 20% Testing & 20% Validation"
   ]
  },
  {
   "cell_type": "code",
   "execution_count": 8,
   "metadata": {
    "executionInfo": {
     "elapsed": 14,
     "status": "ok",
     "timestamp": 1689773146634,
     "user": {
      "displayName": "Jada Jasphin",
      "userId": "06483295825871656487"
     },
     "user_tz": -330
    },
    "id": "wVFGrdzpsckN"
   },
   "outputs": [],
   "source": [
    "from sklearn.model_selection import train_test_split as obsen_jb_TRNTESPL\n",
    "\n",
    "obsen_jb_XTRN, obsen_jb_XTES, obsen_jb_YTRN, obsen_jb_YTES = obsen_jb_TRNTESPL(obsen_jbX, obsen_jbY, test_size=0.4, random_state=10)\n",
    "obsen_jb_XVAL, obsen_jb_XTES, obsen_jb_YVAL, obsen_jb_YTES = obsen_jb_TRNTESPL(obsen_jb_XTES, obsen_jb_YTES, test_size=0.5, random_state=10)"
   ]
  },
  {
   "cell_type": "markdown",
   "metadata": {
    "id": "6yptHIM6vpOb"
   },
   "source": [
    "Best Parameters - Decision Tree Classifier"
   ]
  },
  {
   "cell_type": "code",
   "execution_count": 9,
   "metadata": {
    "colab": {
     "base_uri": "https://localhost:8080/"
    },
    "executionInfo": {
     "elapsed": 2519,
     "status": "ok",
     "timestamp": 1689773149140,
     "user": {
      "displayName": "Jada Jasphin",
      "userId": "06483295825871656487"
     },
     "user_tz": -330
    },
    "id": "zrbuiWxjscoK",
    "outputId": "e0e96343-0ce8-4310-b960-aa34e54b2aab"
   },
   "outputs": [
    {
     "name": "stdout",
     "output_type": "stream",
     "text": [
      "Fitting 2 folds for each of 378 candidates, totalling 756 fits\n",
      "Obscene Parameters :  {'criterion': 'gini', 'max_depth': 1, 'max_features': 'sqrt', 'min_weight_fraction_leaf': 0.0, 'splitter': 'best'}\n",
      "Onscene Score      :  1.0\n"
     ]
    }
   ],
   "source": [
    "from sklearn.model_selection import GridSearchCV as obsen_jb_GRPRM\n",
    "from sklearn.tree import DecisionTreeClassifier as obsen_jb_DecTR\n",
    "\n",
    "obsen_Params = {\n",
    "              'criterion': ['gini','entropy','log_loss'],\n",
    "              'max_depth':list(range(7)),\n",
    "              'splitter': ['best','random'],\n",
    "              'max_features':['sqrt','auto','log2'],\n",
    "              'min_weight_fraction_leaf': [0.0,0.1,0.2]\n",
    "               }\n",
    "obsen_jbMod = obsen_jb_DecTR(random_state=1)\n",
    "obsen_jbMod = obsen_jb_GRPRM(obsen_jbMod, obsen_Params,\n",
    "                         cv=2,\n",
    "                         verbose=1)\n",
    "obsen_jbMod.fit(obsen_jbX, obsen_jbY)\n",
    "print(\"Obscene Parameters : \", obsen_jbMod.best_params_)\n",
    "print(\"Onscene Score      : \", obsen_jbMod.best_score_)"
   ]
  },
  {
   "cell_type": "markdown",
   "metadata": {
    "id": "PUxN19WcFq5_"
   },
   "source": [
    "## Predicting Validation Data"
   ]
  },
  {
   "cell_type": "code",
   "execution_count": 10,
   "metadata": {
    "colab": {
     "base_uri": "https://localhost:8080/"
    },
    "executionInfo": {
     "elapsed": 604,
     "status": "ok",
     "timestamp": 1689773149739,
     "user": {
      "displayName": "Jada Jasphin",
      "userId": "06483295825871656487"
     },
     "user_tz": -330
    },
    "id": "bLyCEukAscrv",
    "outputId": "a38acb3c-bd17-4465-ff82-cd648d04f288"
   },
   "outputs": [
    {
     "name": "stdout",
     "output_type": "stream",
     "text": [
      "\n",
      " Training Duration - DTree: 0.001851797103881836 \n",
      "\n",
      "               precision    recall  f1-score   support\n",
      "\n",
      "Illegitimate        1.00      1.00      1.00        25\n",
      "  Legitimate        1.00      1.00      1.00        17\n",
      "\n",
      "     accuracy                           1.00        42\n",
      "    macro avg       1.00      1.00      1.00        42\n",
      " weighted avg       1.00      1.00      1.00        42\n",
      "\n",
      "\n",
      " Validation Duration - DTree: 0.017056941986083984 \n",
      "\n"
     ]
    }
   ],
   "source": [
    "from sklearn.metrics import classification_report as obsen_jb_CL\n",
    "from sklearn.metrics import confusion_matrix as obsen_jbCMX\n",
    "from sklearn.metrics import ConfusionMatrixDisplay as obsen_jbDSP\n",
    "import time as obsenTYM\n",
    "\n",
    "obsen_T1 = obsenTYM.time()\n",
    "obsen_M1 = obsen_jb_DecTR(max_features='sqrt', max_depth=1, criterion='gini', min_weight_fraction_leaf=0.0, splitter='best')\n",
    "obsen_M1.fit(obsen_jb_XTRN,obsen_jb_YTRN)\n",
    "obsen_T2 = obsenTYM.time()\n",
    "print(\"\\n Training Duration - DTree:\", obsen_T2-obsen_T1,\"\\n\")\n",
    "\n",
    "obsen_T1 = obsenTYM.time()\n",
    "obsen_PR = obsen_M1.predict(obsen_jb_XVAL)\n",
    "print(obsen_jb_CL(obsen_jb_YVAL,obsen_PR))\n",
    "obsen_T2 = obsenTYM.time()\n",
    "print(\"\\n Validation Duration - DTree:\", obsen_T2-obsen_T1,\"\\n\")"
   ]
  },
  {
   "cell_type": "code",
   "execution_count": 11,
   "metadata": {
    "colab": {
     "base_uri": "https://localhost:8080/",
     "height": 473
    },
    "executionInfo": {
     "elapsed": 54,
     "status": "ok",
     "timestamp": 1689773149749,
     "user": {
      "displayName": "Jada Jasphin",
      "userId": "06483295825871656487"
     },
     "user_tz": -330
    },
    "id": "IvVGZ448scu1",
    "outputId": "19cd9570-834e-43b8-b55b-b56d9e19ba49"
   },
   "outputs": [
    {
     "data": {
      "text/plain": [
       "<sklearn.metrics._plot.confusion_matrix.ConfusionMatrixDisplay at 0x7df7db405630>"
      ]
     },
     "execution_count": 11,
     "metadata": {},
     "output_type": "execute_result"
    },
    {
     "data": {
      "image/png": "[encoded data removed]",
      "text/plain": [
       "<Figure size 640x480 with 2 Axes>"
      ]
     },
     "metadata": {},
     "output_type": "display_data"
    }
   ],
   "source": [
    "obsen_jbMRX = obsen_jbCMX(obsen_jb_YVAL,obsen_PR)\n",
    "obsen_jbMRXD = obsen_jbDSP(confusion_matrix = obsen_jbMRX, display_labels = [0, 1])\n",
    "obsen_jbMRXD.plot()"
   ]
  },
  {
   "cell_type": "markdown",
   "metadata": {
    "id": "PXru14DoF4zS"
   },
   "source": [
    "## Predicting Test Data"
   ]
  },
  {
   "cell_type": "code",
   "execution_count": 12,
   "metadata": {
    "colab": {
     "base_uri": "https://localhost:8080/"
    },
    "executionInfo": {
     "elapsed": 820,
     "status": "ok",
     "timestamp": 1689773150520,
     "user": {
      "displayName": "Jada Jasphin",
      "userId": "06483295825871656487"
     },
     "user_tz": -330
    },
    "id": "i8dGVIe4scxZ",
    "outputId": "4e1f7b19-a0b8-4fce-c7b5-1094f784b2d0"
   },
   "outputs": [
    {
     "name": "stdout",
     "output_type": "stream",
     "text": [
      "               precision    recall  f1-score   support\n",
      "\n",
      "Illegitimate        1.00      1.00      1.00        24\n",
      "  Legitimate        1.00      1.00      1.00        18\n",
      "\n",
      "     accuracy                           1.00        42\n",
      "    macro avg       1.00      1.00      1.00        42\n",
      " weighted avg       1.00      1.00      1.00        42\n",
      "\n",
      "\n",
      " Testing Duration - DTree: 0.01420736312866211 \n",
      "\n"
     ]
    }
   ],
   "source": [
    "obsen_T1 = obsenTYM.time()\n",
    "obsen_PR = obsen_M1.predict(obsen_jb_XTES)\n",
    "print(obsen_jb_CL(obsen_jb_YTES,obsen_PR))\n",
    "obsen_T2 = obsenTYM.time()\n",
    "print(\"\\n Testing Duration - DTree:\", obsen_T2-obsen_T1,\"\\n\")"
   ]
  },
  {
   "cell_type": "code",
   "execution_count": 13,
   "metadata": {
    "colab": {
     "base_uri": "https://localhost:8080/",
     "height": 467
    },
    "executionInfo": {
     "elapsed": 54,
     "status": "ok",
     "timestamp": 1689773150523,
     "user": {
      "displayName": "Jada Jasphin",
      "userId": "06483295825871656487"
     },
     "user_tz": -330
    },
    "id": "tdktFlmU2zwm",
    "outputId": "6359a13f-5be5-450b-9503-879d788eb1a9"
   },
   "outputs": [
    {
     "data": {
      "text/plain": [
       "<sklearn.metrics._plot.confusion_matrix.ConfusionMatrixDisplay at 0x7df7da5d34f0>"
      ]
     },
     "execution_count": 13,
     "metadata": {},
     "output_type": "execute_result"
    },
    {
     "data": {
      "image/png": "[encoded data removed]",
      "text/plain": [
       "<Figure size 640x480 with 2 Axes>"
      ]
     },
     "metadata": {},
     "output_type": "display_data"
    }
   ],
   "source": [
    "obsen_jbMRX = obsen_jbCMX(obsen_jb_YTES,obsen_PR)\n",
    "obsen_jbMRXD = obsen_jbDSP(confusion_matrix = obsen_jbMRX, display_labels = [0, 1])\n",
    "obsen_jbMRXD.plot()"
   ]
  },
  {
   "cell_type": "markdown",
   "metadata": {
    "id": "Zx9Y7Gda4ByX"
   },
   "source": [
    "Decision Tree Classifier performs 100% accuracy in both validation and testing of Obscene Job posts.\n",
    "\n",
    "* Training Duration   - DTree: 0.001851797103881836\n",
    "* Validation Duration - DTree: 0.017056941986083984\n",
    "* Testing Duration    - DTree: 0.01420736312866211"
   ]
  }
 ],
 "metadata": {
  "colab": {
   "provenance": []
  },
  "kernelspec": {
   "display_name": "Python 3 (ipykernel)",
   "language": "python",
   "name": "python3"
  },
  "language_info": {
   "codemirror_mode": {
    "name": "ipython",
    "version": 3
   },
   "file_extension": ".py",
   "mimetype": "text/x-python",
   "name": "python",
   "nbconvert_exporter": "python",
   "pygments_lexer": "ipython3",
   "version": "3.9.13"
  }
 },
 "nbformat": 4,
 "nbformat_minor": 1
}
